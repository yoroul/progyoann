{
 "cells": [
  {
   "cell_type": "code",
   "execution_count": 12,
   "metadata": {},
   "outputs": [
    {
     "name": "stdout",
     "output_type": "stream",
     "text": [
      "ici les elements de la liste liste 0\n",
      "Index 00: 0\n",
      "Index 01: 1\n",
      "Index 02: 2\n",
      "Index 03: 3\n",
      "voici les elements du dictionnaire dict 0\n",
      "Element zero: 0\n",
      "Element un: 1\n",
      "Element deux: 2\n",
      "Element trois: 3\n",
      "Element quatre: 4\n",
      "Element cinq: 5\n"
     ]
    }
   ],
   "source": [
    "def print_my_list(title_list, title_dict, *my_list, **my_dict):\n",
    "    # Dans ce namespace, my_dict est un dictionnaire et my_list une liste\n",
    "    \n",
    "    print('ici les elements de la liste %s' % (title_list))\n",
    "    for idx,value in enumerate(my_list):\n",
    "        print('Index %02d: %s' % (idx, value))\n",
    "\n",
    "    print('voici les elements du dictionnaire %s' % (title_dict))\n",
    "    for key,value in my_dict.items():\n",
    "        print('Element %s: %s' % (key, value))\n",
    "\n",
    "print_my_list('liste 0', 'dict 0', 0, 1, 2, 3, zero=0, un=1, deux=2, trois=3, quatre=4, cinq=5)"
   ]
  },
  {
   "cell_type": "code",
   "execution_count": 15,
   "metadata": {},
   "outputs": [
    {
     "name": "stdout",
     "output_type": "stream",
     "text": [
      "[1, 2, 3]\n",
      "{'cle1': 1, 'cle2': 2}\n"
     ]
    }
   ],
   "source": [
    "def test(*args, **kwargs):\n",
    "    \"\"\"*args represente les let d'une liste\n",
    "    **kwargs reprsente les cle=valeur d'un dictionnaire\n",
    "    on est pas obligé de les appelé args et kwargs (c'est juste une convention)\n",
    "    on dit que les élément son empaquetés dans une liste ou dans un dictionnaire\n",
    "    \"\"\"\n",
    "    mylist = [elt for elt in args]\n",
    "    mydict = {k:v for (k,v) in kwargs.items()}\n",
    "    print(mylist)\n",
    "    print(mydict)\n",
    "\n",
    "test(1,2,3,cle1=1, cle2=2)"
   ]
  },
  {
   "cell_type": "code",
   "execution_count": 16,
   "metadata": {},
   "outputs": [
    {
     "name": "stdout",
     "output_type": "stream",
     "text": [
      "[1, 2, 3]\n",
      "{'cle1': 1, 'cle2': 2}\n"
     ]
    }
   ],
   "source": [
    "def test(*maliste, **mondico):\n",
    "    \"\"\"*args represente les let d'une liste\n",
    "    **kwargs reprsente les cle=valeur d'un dictionnaire\n",
    "    \"\"\"\n",
    "    mylist = [elt for elt in maliste]\n",
    "    mydict = {k:v for (k,v) in mondico.items()}\n",
    "    print(mylist)\n",
    "    print(mydict)\n",
    "\n",
    "test(1,2,3,cle1=1, cle2=2)"
   ]
  },
  {
   "cell_type": "code",
   "execution_count": null,
   "metadata": {},
   "outputs": [],
   "source": []
  }
 ],
 "metadata": {
  "kernelspec": {
   "display_name": "Python 3",
   "language": "python",
   "name": "python3"
  },
  "language_info": {
   "codemirror_mode": {
    "name": "ipython",
    "version": 3
   },
   "file_extension": ".py",
   "mimetype": "text/x-python",
   "name": "python",
   "nbconvert_exporter": "python",
   "pygments_lexer": "ipython3",
   "version": "3.7.6"
  },
  "toc": {
   "base_numbering": 1,
   "nav_menu": {},
   "number_sections": true,
   "sideBar": true,
   "skip_h1_title": false,
   "title_cell": "Table of Contents",
   "title_sidebar": "Contents",
   "toc_cell": false,
   "toc_position": {},
   "toc_section_display": true,
   "toc_window_display": false
  }
 },
 "nbformat": 4,
 "nbformat_minor": 4
}
